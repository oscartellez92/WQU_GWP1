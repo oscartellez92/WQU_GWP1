{
 "cells": [
  {
   "cell_type": "code",
   "execution_count": 1,
   "id": "e6834c99-0fbf-4f2f-938d-6a2ae8a7fea8",
   "metadata": {},
   "outputs": [],
   "source": [
    "import pandas as pd\n",
    "import matplotlib.pyplot as plt\n",
    "import seaborn as sns\n",
    "import numpy as np\n",
    "from coinapi_rest_v1.restapi import CoinAPIv1\n",
    "import config\n",
    "import datetime"
   ]
  },
  {
   "cell_type": "code",
   "execution_count": 2,
   "id": "6e3117be-74dd-4cd5-a3ba-b1bd4c16b44c",
   "metadata": {},
   "outputs": [],
   "source": [
    "#Initializing Coin API module\n",
    "c_api = CoinAPIv1(api_key=config.api_key)"
   ]
  },
  {
   "cell_type": "code",
   "execution_count": 3,
   "id": "c83dfd46-ef55-4bae-a058-aea6590c864b",
   "metadata": {},
   "outputs": [],
   "source": [
    "#Date Range for data retrieval\n",
    "start_date = datetime.date(2022, 4, 28).isoformat()\n",
    "end_date = datetime.date(2024, 4, 29).isoformat()"
   ]
  },
  {
   "cell_type": "code",
   "execution_count": 4,
   "id": "f60809a9-0d5e-4ab9-ae53-8f7dbe9c4b3e",
   "metadata": {},
   "outputs": [],
   "source": [
    "#Selected coin tickers\n",
    "coins = ['BTC', 'ETH', 'HBAR']\n",
    "portfolio = pd.DataFrame()"
   ]
  },
  {
   "cell_type": "code",
   "execution_count": 5,
   "id": "325142ea-2547-404d-af11-9116b5c30b4c",
   "metadata": {},
   "outputs": [],
   "source": [
    "#Fetching the data\n",
    "for coin in coins:\n",
    "    df = pd.DataFrame(c_api.ohlcv_historical_data(\n",
    "            f'BITSTAMP_SPOT_{coin}_USD', \n",
    "            {\n",
    "                'period_id': '1DAY', \n",
    "                'time_start': start_date, \n",
    "                'end_date': end_date,\n",
    "                'limit': 1000\n",
    "            }\n",
    "        ))\n",
    "    \n",
    "    df['daily_return'] = df.price_close.pct_change()\n",
    "    df.dropna(axis=0, inplace=True)\n",
    "    \n",
    "    if len(list(portfolio.index)) == 0:\n",
    "        portfolio.index = pd.to_datetime(df['time_period_start']).dt.date\n",
    "        portfolio.index.name = 'date'\n",
    "        \n",
    "    portfolio[coin] = np.array(df['daily_return'])"
   ]
  },
  {
   "cell_type": "code",
   "execution_count": 6,
   "id": "01905203-7b85-4943-aa4c-da38fcb7b285",
   "metadata": {},
   "outputs": [
    {
     "data": {
      "text/html": [
       "<div>\n",
       "<style scoped>\n",
       "    .dataframe tbody tr th:only-of-type {\n",
       "        vertical-align: middle;\n",
       "    }\n",
       "\n",
       "    .dataframe tbody tr th {\n",
       "        vertical-align: top;\n",
       "    }\n",
       "\n",
       "    .dataframe thead th {\n",
       "        text-align: right;\n",
       "    }\n",
       "</style>\n",
       "<table border=\"1\" class=\"dataframe\">\n",
       "  <thead>\n",
       "    <tr style=\"text-align: right;\">\n",
       "      <th></th>\n",
       "      <th>BTC</th>\n",
       "      <th>ETH</th>\n",
       "      <th>HBAR</th>\n",
       "    </tr>\n",
       "  </thead>\n",
       "  <tbody>\n",
       "    <tr>\n",
       "      <th>count</th>\n",
       "      <td>731.000000</td>\n",
       "      <td>731.000000</td>\n",
       "      <td>731.000000</td>\n",
       "    </tr>\n",
       "    <tr>\n",
       "      <th>mean</th>\n",
       "      <td>0.000901</td>\n",
       "      <td>0.000616</td>\n",
       "      <td>0.000549</td>\n",
       "    </tr>\n",
       "    <tr>\n",
       "      <th>std</th>\n",
       "      <td>0.028617</td>\n",
       "      <td>0.035837</td>\n",
       "      <td>0.053029</td>\n",
       "    </tr>\n",
       "    <tr>\n",
       "      <th>min</th>\n",
       "      <td>-0.155526</td>\n",
       "      <td>-0.175761</td>\n",
       "      <td>-0.198369</td>\n",
       "    </tr>\n",
       "    <tr>\n",
       "      <th>25%</th>\n",
       "      <td>-0.010380</td>\n",
       "      <td>-0.014467</td>\n",
       "      <td>-0.025316</td>\n",
       "    </tr>\n",
       "    <tr>\n",
       "      <th>50%</th>\n",
       "      <td>-0.000347</td>\n",
       "      <td>-0.000328</td>\n",
       "      <td>-0.001181</td>\n",
       "    </tr>\n",
       "    <tr>\n",
       "      <th>75%</th>\n",
       "      <td>0.013676</td>\n",
       "      <td>0.016019</td>\n",
       "      <td>0.021234</td>\n",
       "    </tr>\n",
       "    <tr>\n",
       "      <th>max</th>\n",
       "      <td>0.106045</td>\n",
       "      <td>0.181117</td>\n",
       "      <td>0.724264</td>\n",
       "    </tr>\n",
       "  </tbody>\n",
       "</table>\n",
       "</div>"
      ],
      "text/plain": [
       "              BTC         ETH        HBAR\n",
       "count  731.000000  731.000000  731.000000\n",
       "mean     0.000901    0.000616    0.000549\n",
       "std      0.028617    0.035837    0.053029\n",
       "min     -0.155526   -0.175761   -0.198369\n",
       "25%     -0.010380   -0.014467   -0.025316\n",
       "50%     -0.000347   -0.000328   -0.001181\n",
       "75%      0.013676    0.016019    0.021234\n",
       "max      0.106045    0.181117    0.724264"
      ]
     },
     "execution_count": 6,
     "metadata": {},
     "output_type": "execute_result"
    }
   ],
   "source": [
    "#Summary statistics for the portfolio\n",
    "portfolio.describe()"
   ]
  },
  {
   "cell_type": "code",
   "execution_count": 7,
   "id": "9566bf14-9e85-4b8e-acf3-cb67fc33a238",
   "metadata": {},
   "outputs": [
    {
     "data": {
      "text/html": [
       "<div>\n",
       "<style scoped>\n",
       "    .dataframe tbody tr th:only-of-type {\n",
       "        vertical-align: middle;\n",
       "    }\n",
       "\n",
       "    .dataframe tbody tr th {\n",
       "        vertical-align: top;\n",
       "    }\n",
       "\n",
       "    .dataframe thead th {\n",
       "        text-align: right;\n",
       "    }\n",
       "</style>\n",
       "<table border=\"1\" class=\"dataframe\">\n",
       "  <thead>\n",
       "    <tr style=\"text-align: right;\">\n",
       "      <th></th>\n",
       "      <th>BTC</th>\n",
       "      <th>ETH</th>\n",
       "      <th>HBAR</th>\n",
       "    </tr>\n",
       "  </thead>\n",
       "  <tbody>\n",
       "    <tr>\n",
       "      <th>BTC</th>\n",
       "      <td>1.000000</td>\n",
       "      <td>0.854399</td>\n",
       "      <td>0.553291</td>\n",
       "    </tr>\n",
       "    <tr>\n",
       "      <th>ETH</th>\n",
       "      <td>0.854399</td>\n",
       "      <td>1.000000</td>\n",
       "      <td>0.556716</td>\n",
       "    </tr>\n",
       "    <tr>\n",
       "      <th>HBAR</th>\n",
       "      <td>0.553291</td>\n",
       "      <td>0.556716</td>\n",
       "      <td>1.000000</td>\n",
       "    </tr>\n",
       "  </tbody>\n",
       "</table>\n",
       "</div>"
      ],
      "text/plain": [
       "           BTC       ETH      HBAR\n",
       "BTC   1.000000  0.854399  0.553291\n",
       "ETH   0.854399  1.000000  0.556716\n",
       "HBAR  0.553291  0.556716  1.000000"
      ]
     },
     "execution_count": 7,
     "metadata": {},
     "output_type": "execute_result"
    }
   ],
   "source": [
    "#Calculating the correlation among assets\n",
    "correlation_matrix = portfolio.corr()\n",
    "correlation_matrix"
   ]
  },
  {
   "cell_type": "code",
   "execution_count": 8,
   "id": "eb470e0c-4780-4729-a511-d282dfa1950b",
   "metadata": {},
   "outputs": [
    {
     "data": {
      "text/html": [
       "<div>\n",
       "<style scoped>\n",
       "    .dataframe tbody tr th:only-of-type {\n",
       "        vertical-align: middle;\n",
       "    }\n",
       "\n",
       "    .dataframe tbody tr th {\n",
       "        vertical-align: top;\n",
       "    }\n",
       "\n",
       "    .dataframe thead th {\n",
       "        text-align: right;\n",
       "    }\n",
       "</style>\n",
       "<table border=\"1\" class=\"dataframe\">\n",
       "  <thead>\n",
       "    <tr style=\"text-align: right;\">\n",
       "      <th></th>\n",
       "      <th>BTC</th>\n",
       "      <th>ETH</th>\n",
       "      <th>HBAR</th>\n",
       "    </tr>\n",
       "  </thead>\n",
       "  <tbody>\n",
       "    <tr>\n",
       "      <th>BTC</th>\n",
       "      <td>0.000819</td>\n",
       "      <td>0.000876</td>\n",
       "      <td>0.000840</td>\n",
       "    </tr>\n",
       "    <tr>\n",
       "      <th>ETH</th>\n",
       "      <td>0.000876</td>\n",
       "      <td>0.001284</td>\n",
       "      <td>0.001058</td>\n",
       "    </tr>\n",
       "    <tr>\n",
       "      <th>HBAR</th>\n",
       "      <td>0.000840</td>\n",
       "      <td>0.001058</td>\n",
       "      <td>0.002812</td>\n",
       "    </tr>\n",
       "  </tbody>\n",
       "</table>\n",
       "</div>"
      ],
      "text/plain": [
       "           BTC       ETH      HBAR\n",
       "BTC   0.000819  0.000876  0.000840\n",
       "ETH   0.000876  0.001284  0.001058\n",
       "HBAR  0.000840  0.001058  0.002812"
      ]
     },
     "execution_count": 8,
     "metadata": {},
     "output_type": "execute_result"
    }
   ],
   "source": [
    "#Calculating the covariance among assets\n",
    "covariance_matrix = portfolio.cov()\n",
    "covariance_matrix"
   ]
  },
  {
   "cell_type": "markdown",
   "id": "79a75656-c1ca-43cc-b283-b33187e7cb16",
   "metadata": {},
   "source": [
    "# Visualizing the distribution of daily returns"
   ]
  },
  {
   "cell_type": "markdown",
   "id": "5acd2aef-77d2-4750-ab48-aac7fd8dd597",
   "metadata": {},
   "source": [
    "## 1) Bitcoin (BTC)"
   ]
  },
  {
   "cell_type": "code",
   "execution_count": 9,
   "id": "05eae14d-afa8-4a6b-b78b-1fa102b5141c",
   "metadata": {},
   "outputs": [
    {
     "data": {
      "image/png": "[encoded data removed]",
      "text/plain": [
       "<Figure size 1080x432 with 1 Axes>"
      ]
     },
     "metadata": {
      "needs_background": "light"
     },
     "output_type": "display_data"
    }
   ],
   "source": [
    "plt.figure(figsize=(15,6))\n",
    "sns.histplot(portfolio.BTC, kde=True);"
   ]
  },
  {
   "cell_type": "markdown",
   "id": "79270529-5346-4ef5-8e03-4cad9a0a4f26",
   "metadata": {},
   "source": [
    "## 2) Ethereum (ETH)"
   ]
  },
  {
   "cell_type": "code",
   "execution_count": 10,
   "id": "0d1624d1-9bb3-49d7-b277-f5b370cb0414",
   "metadata": {},
   "outputs": [
    {
     "data": {
      "image/png": "[encoded data removed]",
      "text/plain": [
       "<Figure size 1080x432 with 1 Axes>"
      ]
     },
     "metadata": {
      "needs_background": "light"
     },
     "output_type": "display_data"
    }
   ],
   "source": [
    "plt.figure(figsize=(15,6))\n",
    "sns.histplot(portfolio.ETH, kde=True);"
   ]
  },
  {
   "cell_type": "markdown",
   "id": "0e4c7868-69b0-4be1-bc5a-b30a0fb6e3c4",
   "metadata": {},
   "source": [
    "## 3) Hedera (HBAR)"
   ]
  },
  {
   "cell_type": "code",
   "execution_count": 11,
   "id": "3e738537-6083-4e04-84ab-2092ab55e52b",
   "metadata": {},
   "outputs": [
    {
     "data": {
      "image/png": "[encoded data removed]",
      "text/plain": [
       "<Figure size 1080x432 with 1 Axes>"
      ]
     },
     "metadata": {
      "needs_background": "light"
     },
     "output_type": "display_data"
    }
   ],
   "source": [
    "plt.figure(figsize=(15,6))\n",
    "sns.histplot(portfolio.HBAR, kde=True);"
   ]
  },
  {
   "cell_type": "markdown",
   "id": "22c0dafa-ae20-4591-97ef-9cccf3f5bfa2",
   "metadata": {},
   "source": [
    "# Calculating Portfolio's Statistics"
   ]
  },
  {
   "cell_type": "code",
   "execution_count": 12,
   "id": "a4ec9fe1-d105-467e-b486-d197bc136a57",
   "metadata": {},
   "outputs": [],
   "source": [
    "#Choosing weights for the portfolio\n",
    "weights = [0.5, 0.35, 0.15]"
   ]
  },
  {
   "cell_type": "code",
   "execution_count": 13,
   "id": "1ddd78a1-20d3-45b3-9f75-a5fce9bfe9d6",
   "metadata": {},
   "outputs": [],
   "source": [
    "#Calculating the Portfolio's return\n",
    "portfolio['Portfolio'] = portfolio['BTC'] * weights[0] + portfolio['ETH'] * weights[1] + portfolio['HBAR'] * weights[2] "
   ]
  },
  {
   "cell_type": "code",
   "execution_count": 14,
   "id": "fbf2c609-f097-4c58-a6f7-c93d3fe8464f",
   "metadata": {},
   "outputs": [
    {
     "data": {
      "image/png": "[encoded data removed]",
      "text/plain": [
       "<Figure size 1080x432 with 1 Axes>"
      ]
     },
     "metadata": {
      "needs_background": "light"
     },
     "output_type": "display_data"
    }
   ],
   "source": [
    "#Visualizing the Portfolio's distribution of returns\n",
    "plt.figure(figsize=(15,6))\n",
    "sns.histplot(portfolio.Portfolio, kde=True);"
   ]
  },
  {
   "cell_type": "code",
   "execution_count": 15,
   "id": "62147245-1b82-43b7-8ea9-9283c2331a71",
   "metadata": {},
   "outputs": [],
   "source": [
    "#Calculating average returns, volatility, skewness and kurtosis\n",
    "columns = ['BTC', 'ETH', 'HBAR', 'Portfolio']\n",
    "index = ['Average Returns', 'Standard Deviation', 'Skewness', 'Kurtosis']\n",
    "portfolio_metrics = pd.DataFrame(index=index, columns=columns)\n",
    "for column in columns:\n",
    "    portfolio_metrics.loc['Average Returns', column] = portfolio[column].mean()\n",
    "    portfolio_metrics.loc['Standard Deviation', column] = portfolio[column].std()\n",
    "    portfolio_metrics.loc['Skewness', column] = portfolio[column].skew()\n",
    "    portfolio_metrics.loc['Kurtosis', column] = portfolio[column].kurtosis()"
   ]
  },
  {
   "cell_type": "code",
   "execution_count": 16,
   "id": "356a0608-b1d9-45b3-bd3d-753c38e8b1a4",
   "metadata": {},
   "outputs": [
    {
     "data": {
      "text/html": [
       "<div>\n",
       "<style scoped>\n",
       "    .dataframe tbody tr th:only-of-type {\n",
       "        vertical-align: middle;\n",
       "    }\n",
       "\n",
       "    .dataframe tbody tr th {\n",
       "        vertical-align: top;\n",
       "    }\n",
       "\n",
       "    .dataframe thead th {\n",
       "        text-align: right;\n",
       "    }\n",
       "</style>\n",
       "<table border=\"1\" class=\"dataframe\">\n",
       "  <thead>\n",
       "    <tr style=\"text-align: right;\">\n",
       "      <th></th>\n",
       "      <th>BTC</th>\n",
       "      <th>ETH</th>\n",
       "      <th>HBAR</th>\n",
       "      <th>Portfolio</th>\n",
       "    </tr>\n",
       "  </thead>\n",
       "  <tbody>\n",
       "    <tr>\n",
       "      <th>Average Returns</th>\n",
       "      <td>0.000901</td>\n",
       "      <td>0.000616</td>\n",
       "      <td>0.000549</td>\n",
       "      <td>0.000748</td>\n",
       "    </tr>\n",
       "    <tr>\n",
       "      <th>Standard Deviation</th>\n",
       "      <td>0.028617</td>\n",
       "      <td>0.035837</td>\n",
       "      <td>0.053029</td>\n",
       "      <td>0.03113</td>\n",
       "    </tr>\n",
       "    <tr>\n",
       "      <th>Skewness</th>\n",
       "      <td>-0.244365</td>\n",
       "      <td>-0.045575</td>\n",
       "      <td>3.651567</td>\n",
       "      <td>-0.318828</td>\n",
       "    </tr>\n",
       "    <tr>\n",
       "      <th>Kurtosis</th>\n",
       "      <td>4.154866</td>\n",
       "      <td>4.363514</td>\n",
       "      <td>48.453571</td>\n",
       "      <td>3.341513</td>\n",
       "    </tr>\n",
       "  </tbody>\n",
       "</table>\n",
       "</div>"
      ],
      "text/plain": [
       "                         BTC       ETH       HBAR Portfolio\n",
       "Average Returns     0.000901  0.000616   0.000549  0.000748\n",
       "Standard Deviation  0.028617  0.035837   0.053029   0.03113\n",
       "Skewness           -0.244365 -0.045575   3.651567 -0.318828\n",
       "Kurtosis            4.154866  4.363514  48.453571  3.341513"
      ]
     },
     "execution_count": 16,
     "metadata": {},
     "output_type": "execute_result"
    }
   ],
   "source": [
    "portfolio_metrics"
   ]
  },
  {
   "cell_type": "markdown",
   "id": "4c48c7de-e52e-4e4e-b5bf-28c5fa350974",
   "metadata": {},
   "source": [
    "## Saving a copy of the Data"
   ]
  },
  {
   "cell_type": "code",
   "execution_count": 17,
   "id": "82ea8228-6073-4e64-91c4-e9e5dca5b757",
   "metadata": {},
   "outputs": [],
   "source": [
    "#saving an offline copy of the fetched data\n",
    "portfolio.to_csv('btc_eth_hbar.csv', index=False)\n",
    "#saving a copy of correlation matrix\n",
    "correlation_matrix.to_csv('correlation_matrix.csv', index=False)\n",
    "#saving a copy of covariance matrix\n",
    "covariance_matrix.to_csv('covariance_matrix.csv', index=False)\n",
    "#saving a copy of the portfolio metrics\n",
    "portfolio_metrics.to_csv('portfolio_metrics.csv', index=False)"
   ]
  }
 ],
 "metadata": {
  "kernelspec": {
   "display_name": "Python 3 (ipykernel)",
   "language": "python",
   "name": "python3"
  },
  "language_info": {
   "codemirror_mode": {
    "name": "ipython",
    "version": 3
   },
   "file_extension": ".py",
   "mimetype": "text/x-python",
   "name": "python",
   "nbconvert_exporter": "python",
   "pygments_lexer": "ipython3",
   "version": "3.9.12"
  }
 },
 "nbformat": 4,
 "nbformat_minor": 5
}
